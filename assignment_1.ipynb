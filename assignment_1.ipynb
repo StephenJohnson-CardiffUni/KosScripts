{
  "cells": [
    {
      "cell_type": "markdown",
      "metadata": {
        "id": "-p1nMzGik8D7"
      },
      "source": [
        "# Assignment 1\n",
        "\n",
        "This is due in on Friday **November 18th before 2pm**. Mark weighting is in brackets. Do add comments to your code, you'll lose points if your code is hard to understand. Graphs without labels (or units when appropriate) are not worth any point.\n",
        "\n",
        "Save your work to GitHub **after** having run all cells with `Runtime`->`Restart and run all`. You should then do `File`->`Save a copy in GitHub`, do remember to keep the same filename and work directly in the `assignment_1.ipynb` worksheet, adding as many code cells as needed. You can (and should) save as often as possible, only the latest version uploaded before the deadline will be marked.\n",
        "\n",
        "_It is recommended to only attempt this assignment after having gone through the \"Curve fitting\" worksheet._\n",
        "\n",
        "For the first assignment you will read in some noisy data which represents a solar black body spectrum. See http://rredc.nrel.gov/solar/spectra/am0/ASTM2000.html for more details. Your job is to fit the data with a black body spectrum to find the temperature (with error estimate) in a similar way to the curve fitting.\n",
        "\n",
        "1. [2] Download (with `wget`) and read in the data file [E490_00a_AMO.txt](https://raw.githubusercontent.com/PX2134/data/master/assignment1/E490_00a_AMO.txt). It comprises x, y data in two columns; the first column is wave length in units of $10^{-6} m$ or $\\mu m$, and the second column is in $Wm^{−2}\\mu m^{−1}$ units. Plot it out, selecting a sensible data range and scale.\n",
        "2. [2] Define a suitable fitting function `Planck_Lambda(lam, *p)`. This function is to be based on the Planck formula\n",
        "   $$ B_{\\lambda}(T)= \\left( \\frac{2hc^2}{\\lambda^5} \\right) \\left[ \\exp(\\frac{hc}{\\lambda kT})-1 \\right] ^{-1} $$\n",
        "   where $k$ is Boltzmann’s constant, $h$ is Planck’s constant and $c$ is the speed of light. Note that you will actually need _two_ fitting parameters ($T$, and an overall scaling factor $A$, since the vertical scale is effectively in arbitrary units).\n",
        "3. [2] Plot a separate graph of your fitting function, i.e. plot $B_{\\lambda}$ against $\\lambda$ for a range of $T$ values in order to see how the function behaves. Pick enough $T$ values to illustrate the form of the function.\n",
        "4. [6] Use the `curve_fit` routine to fit `Planck_Lambda` to the data and hence find the parameters (and their errors). Remember that the initial guess will now have to contain 2 parameters ($T$ and $A$). Plot the selected data points and a curve of the fitted function on the same graph to compare.\n",
        "You might need to _select_ a small range of the spectrum around the peak to get a satisfactory fit or initial idea of good parameters. Experiment with this.\n",
        "5. [2] Plot the residuals on a separate graph. Comment on what you find.\n",
        "6. [1] Find the wavelength $\\lambda_{max}$ at which your best fit from question 4 for the solar black body spectrum is maximal.\n",
        "7. [5] We will now use the uncertainties package to propagate the error from your best-fit measurement. To do so, we need a new function, `um_Planck_Lambda(lam, *p)`, able to process the uncertainties object `uncertainties.ufloat`. Adapt your function `Planck_Lambda(lam, *p)` into a new function `um_Planck_Lambda(lam, *p)` which is able to take as input for the arguments $A$ and $T$ `uncertainties` objects.\n",
        "\n",
        "   Use your new function `um_Planck_Lambda(lam, *p)` to compute $B_{\\lambda_{max}}(T)$ and it error for your best fit parameters $A_{best}$ and $T_{best}$ with the $A_{best}$ and $T_{best}$ values as `uncertainties` objects, with the errors found in question 4.\n",
        "\n",
        "   Finally, with that same `um_Planck_Lambda(lam, *p)` function, make a plot using pyplot's [errorbar](https://matplotlib.org/stable/api/_as_gen/matplotlib.pyplot.errorbar.html) by adding the error for each $B_{\\lambda}(T)$ computed. Comment on what you find."
      ]
    },
    {
      "cell_type": "code",
      "source": [
        "#Download file\n",
        "!wget https://raw.githubusercontent.com/PX2134/data/master/assignment1/E490_00a_AMO.txt"
      ],
      "metadata": {
        "id": "Gb6YXK93lB21",
        "outputId": "a0573028-e46c-4f51-e00d-aee5c338425c",
        "colab": {
          "base_uri": "https://localhost:8080/"
        }
      },
      "execution_count": 1,
      "outputs": [
        {
          "output_type": "stream",
          "name": "stdout",
          "text": [
            "--2022-11-16 18:57:38--  https://raw.githubusercontent.com/PX2134/data/master/assignment1/E490_00a_AMO.txt\n",
            "Resolving raw.githubusercontent.com (raw.githubusercontent.com)... 185.199.108.133, 185.199.109.133, 185.199.110.133, ...\n",
            "Connecting to raw.githubusercontent.com (raw.githubusercontent.com)|185.199.108.133|:443... connected.\n",
            "HTTP request sent, awaiting response... 200 OK\n",
            "Length: 19990 (20K) [text/plain]\n",
            "Saving to: ‘E490_00a_AMO.txt.2’\n",
            "\n",
            "\rE490_00a_AMO.txt.2    0%[                    ]       0  --.-KB/s               \rE490_00a_AMO.txt.2  100%[===================>]  19.52K  --.-KB/s    in 0s      \n",
            "\n",
            "2022-11-16 18:57:38 (101 MB/s) - ‘E490_00a_AMO.txt.2’ saved [19990/19990]\n",
            "\n"
          ]
        }
      ]
    },
    {
      "cell_type": "code",
      "source": [
        "#Unpack the data and plot \n",
        "\n",
        "import numpy as np\n",
        "import matplotlib.pyplot as plt\n",
        "\n",
        "waveLength, powDensity = np.loadtxt('E490_00a_AMO.txt', unpack = True)\n",
        "##This line of code will return a \"Cannot convert string to float\" error if a delimiter argument is passed\n",
        "\n",
        "plt.semilogx(waveLength,powDensity,\"b-\");\n",
        "plt.xlabel(\"Wave Length (μm)\");\n",
        "plt.ylabel(\"Power Density (W m^−2 μm^−1)\");\n"
      ],
      "metadata": {
        "id": "thsCKlbTn31g",
        "outputId": "c459d200-c2bc-4a0e-ed7d-2c317fc5ca9a",
        "colab": {
          "base_uri": "https://localhost:8080/",
          "height": 283
        }
      },
      "execution_count": 2,
      "outputs": [
        {
          "output_type": "display_data",
          "data": {
            "text/plain": [
              "<Figure size 432x288 with 1 Axes>"
            ],
            "image/png": "[encoded data removed]"
          },
          "metadata": {
            "needs_background": "light"
          }
        }
      ]
    },
    {
      "cell_type": "code",
      "source": [
        "def Planck_Lambda(lam, A, *T):\n",
        "  #T = p[0]\n",
        "  #A = p[1] \n",
        "  \n",
        "  #Needed constants\n",
        "  k = 1.3806503e-23 #m2 kg s-2 K-1\n",
        "  h = 6.626068e-34  #m2 kg s-1\n",
        "  c = 299792458     #m  s-1\n",
        "\n",
        "  return A * ( ((2*h*(c**2))/ (lam**5) ) * ((np.exp( (h*c) / (lam * k * T) )-1)**-1) )"
      ],
      "metadata": {
        "id": "-M3ioXjplGaC"
      },
      "execution_count": 10,
      "outputs": []
    },
    {
      "cell_type": "code",
      "source": [
        "#create variables to pass to function\n",
        "\n",
        "lam = np.arange(10e-1,10e3)\n",
        "\n",
        "T = np.array([3e6,3e8,3e10])\n",
        "A = 1\n",
        "p = T , A\n",
        "\n",
        "\n",
        "results = Planck_Lambda(lam,A,T[2])"
      ],
      "metadata": {
        "id": "c_ZlPmU7pP2G",
        "outputId": "90a9c84d-5a00-401e-aed9-1c1f8194d9a1",
        "colab": {
          "base_uri": "https://localhost:8080/"
        }
      },
      "execution_count": 16,
      "outputs": [
        {
          "output_type": "stream",
          "name": "stderr",
          "text": [
            "/usr/local/lib/python3.7/dist-packages/ipykernel_launcher.py:10: RuntimeWarning: divide by zero encountered in reciprocal\n",
            "  # Remove the CWD from sys.path while we load stuff.\n"
          ]
        }
      ]
    },
    {
      "cell_type": "code",
      "source": [
        "plt.semilogx(lam,results)\n"
      ],
      "metadata": {
        "id": "gxTl5NhQ0MWz",
        "outputId": "b337d1e8-3386-4b28-87f0-dfde45d5324d",
        "colab": {
          "base_uri": "https://localhost:8080/",
          "height": 286
        }
      },
      "execution_count": 17,
      "outputs": [
        {
          "output_type": "execute_result",
          "data": {
            "text/plain": [
              "[<matplotlib.lines.Line2D at 0x7f0b9ecb2dd0>]"
            ]
          },
          "metadata": {},
          "execution_count": 17
        },
        {
          "output_type": "display_data",
          "data": {
            "text/plain": [
              "<Figure size 432x288 with 1 Axes>"
            ],
            "image/png": "[encoded data removed]"
          },
          "metadata": {
            "needs_background": "light"
          }
        }
      ]
    },
    {
      "cell_type": "code",
      "source": [],
      "metadata": {
        "id": "m_vv67kK0RJR"
      },
      "execution_count": null,
      "outputs": []
    }
  ],
  "metadata": {
    "kernelspec": {
      "display_name": "Python 3.9.13 ('basic')",
      "language": "python",
      "name": "python3"
    },
    "language_info": {
      "codemirror_mode": {
        "name": "ipython",
        "version": 3
      },
      "file_extension": ".py",
      "mimetype": "text/x-python",
      "name": "python",
      "nbconvert_exporter": "python",
      "pygments_lexer": "ipython3",
      "version": "3.9.13"
    },
    "vscode": {
      "interpreter": {
        "hash": "24cb96319481aa88c8a1e3d3541479232b3965a5cb00f13e0c82931ba911617a"
      }
    },
    "colab": {
      "provenance": []
    }
  },
  "nbformat": 4,
  "nbformat_minor": 0
}